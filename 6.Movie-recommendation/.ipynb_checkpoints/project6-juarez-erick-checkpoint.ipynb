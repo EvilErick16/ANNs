{
 "cells": [
  {
   "cell_type": "markdown",
   "id": "917aa29d",
   "metadata": {},
   "source": [
    "# Movie recommendation \n",
    "### CPSC 585 Project 6\n",
    "#### Erick Juarez \n",
    "This project will implement a [Hopfield Network](https://en.wikipedia.org/wiki/Hopfield_network) and use it for recommending movies. \n",
    "The network will be trained on the small [MovieLens Dataset](https://grouplens.org/datasets/movielens/latest/). "
   ]
  },
  {
   "cell_type": "markdown",
   "id": "984f2d32",
   "metadata": {},
   "source": [
    "### Experiment 1\n",
    "Let's prepare our data before building the network. There are a couple steps before our data is ready. First,  we will use the contents of the file `ratings.csv` to create a dataset. The dataset should have a feature vector for each user, with each feature corresponding to a movie. Movies should be encoded such that a movie rated `3.0` or above by the user will be represented as a `+1`, and other movies will be labeled `-1`."
   ]
  },
  {
   "cell_type": "code",
   "execution_count": 2,
   "id": "2638f961",
   "metadata": {},
   "outputs": [],
   "source": [
    "# import libraries \n",
    "import numpy as np\n",
    "import pandas as pd"
   ]
  },
  {
   "cell_type": "code",
   "execution_count": 3,
   "id": "f83b4ae8",
   "metadata": {},
   "outputs": [
    {
     "name": "stdout",
     "output_type": "stream",
     "text": [
      "        userId  movieId  rating   timestamp\n",
      "0            1        1     4.0   964982703\n",
      "1            1        3     4.0   964981247\n",
      "2            1        6     4.0   964982224\n",
      "3            1       47     5.0   964983815\n",
      "4            1       50     5.0   964982931\n",
      "...        ...      ...     ...         ...\n",
      "100831     610   166534     4.0  1493848402\n",
      "100832     610   168248     5.0  1493850091\n",
      "100833     610   168250     5.0  1494273047\n",
      "100834     610   168252     5.0  1493846352\n",
      "100835     610   170875     3.0  1493846415\n",
      "\n",
      "[100836 rows x 4 columns]\n",
      "number of users: 610\n",
      "number of movies: 9724\n"
     ]
    }
   ],
   "source": [
    "# read csv file using pandas \n",
    "df = pd.read_csv('ratings.csv')\n",
    "# look at the imported dataframe\n",
    "user_count = len(df.userId.unique())\n",
    "movie_count = len(df.movieId.unique())\n",
    "print(df)\n",
    "print(\"number of users:\", user_count)\n",
    "print(\"number of movies:\", movie_count)"
   ]
  },
  {
   "cell_type": "markdown",
   "id": "045c0fd3",
   "metadata": {},
   "source": [
    "The important columns of the dataframe are the first three: `userId`, `movieId`, and `rating`. Our new numpy array ,`dataset`, will have 610 rows and 9724 columns representing users and movies respectively. The values stored at `dataset[user][movie]` will be `+1` for movies with `rating` of 3.0 or higher and `-1` for all other movies for that `user`."
   ]
  },
  {
   "cell_type": "code",
   "execution_count": 4,
   "id": "ab356949",
   "metadata": {},
   "outputs": [
    {
     "name": "stdout",
     "output_type": "stream",
     "text": [
      "[[-1 -1 -1 ... -1 -1 -1]\n",
      " [-1 -1 -1 ... -1 -1 -1]\n",
      " [-1 -1 -1 ... -1 -1 -1]\n",
      " ...\n",
      " [-1 -1 -1 ... -1 -1 -1]\n",
      " [-1 -1 -1 ... -1 -1 -1]\n",
      " [-1 -1 -1 ... -1 -1 -1]]\n",
      "(610, 9724)\n"
     ]
    }
   ],
   "source": [
    "# creeate array filled with -1 (ie. disliked or never seen movie)\n",
    "dataset = np.full((user_count, movie_count), -1)\n",
    "print(dataset)\n",
    "print(dataset.shape)"
   ]
  },
  {
   "cell_type": "markdown",
   "id": "b36dbf11",
   "metadata": {},
   "source": [
    "using loc\\[\\] we can extract each user and determine which movies they have watched. Each user's `movieId` colum contains the movies that user has seen. These movies also have a `rating` that we must check to set the values in `dataset` to `+1` for movies rated 3.0 or higher.  "
   ]
  },
  {
   "cell_type": "code",
   "execution_count": 5,
   "id": "d19f9919",
   "metadata": {},
   "outputs": [],
   "source": [
    "# change values of array corresponding to movies rated 3.0 or above to +1 \n",
    "df.set_index('userId', inplace=True)\n",
    "features = df.movieId.unique() # each movie corresponds to a feature"
   ]
  },
  {
   "cell_type": "code",
   "execution_count": 32,
   "id": "36cfd370",
   "metadata": {},
   "outputs": [],
   "source": [
    "# define a helper function that returns a unique index of a given movieId \n",
    "def id_to_index(movieId):\n",
    "    for movie in range(len(features)):\n",
    "        if movieId == features[movie]:\n",
    "            return movie\n",
    "    return None"
   ]
  },
  {
   "cell_type": "code",
   "execution_count": 46,
   "id": "a2ef7256",
   "metadata": {},
   "outputs": [
    {
     "name": "stdout",
     "output_type": "stream",
     "text": [
      "(610, 9724)\n"
     ]
    }
   ],
   "source": [
    "# go through each user and find out what movies they have rated 3.0 or higher \n",
    "for user in range(user_count):\n",
    "    ids = df.loc[[user+1]].movieId.to_numpy()\n",
    "    ratings = df.loc[[user+1]].rating.to_numpy() \n",
    "    for movie in range(len(ids)):\n",
    "        index = id_to_index(ids[movie])\n",
    "        # has the user seen this movie\n",
    "        if index is not None:\n",
    "            # is the rating 3.0 or higher\n",
    "            if ratings[movie] >= 3.0:\n",
    "                dataset[user][index] = +1\n",
    "print(dataset.shape)"
   ]
  },
  {
   "cell_type": "markdown",
   "id": "3ad633be",
   "metadata": {},
   "source": [
    "Now we have a new dataset representing 610 users and 9724 movies"
   ]
  },
  {
   "cell_type": "markdown",
   "id": "df069346",
   "metadata": {},
   "source": [
    "### Experiment 2\n",
    "The next step in preprocessing our data is to set aside 10% of this new dataset for testing our network."
   ]
  },
  {
   "cell_type": "markdown",
   "id": "1bda34c4",
   "metadata": {},
   "source": [
    "There are going to be 549 users in the new `train_set` and 61 in the `test_set`. We can calculate the storage capacity of our network. A hopfield network with *d* units can store about (.15)(*d*) training examples. This means our network with 9724 units should be able to store close to 1459 examples which is far greater than the size of `train_set` so this network should be able to store our dataset "
   ]
  },
  {
   "cell_type": "code",
   "execution_count": null,
   "id": "78c12200",
   "metadata": {},
   "outputs": [],
   "source": [
    "train_set = "
   ]
  }
 ],
 "metadata": {
  "kernelspec": {
   "display_name": "Python 3",
   "language": "python",
   "name": "python3"
  },
  "language_info": {
   "codemirror_mode": {
    "name": "ipython",
    "version": 3
   },
   "file_extension": ".py",
   "mimetype": "text/x-python",
   "name": "python",
   "nbconvert_exporter": "python",
   "pygments_lexer": "ipython3",
   "version": "3.6.13"
  }
 },
 "nbformat": 4,
 "nbformat_minor": 5
}
